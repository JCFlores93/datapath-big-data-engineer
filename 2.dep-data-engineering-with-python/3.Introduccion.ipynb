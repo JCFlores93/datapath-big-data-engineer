{
 "cells": [
  {
   "cell_type": "markdown",
   "id": "268f8c25",
   "metadata": {},
   "source": [
    "# Indice\n",
    "- [Hola Mundo](#1)\n",
    "- [Indentación](#2)\n",
    "- [Comentarios](#3)\n",
    "- [Variables](#4)\n",
    "- [Tipos de datos](#5)\n",
    "- [Operadores](#6)\n",
    "- [Listas](#7)\n",
    "- [Tuplas](#8)\n",
    "- [Diccionarios](#9)\n",
    "- [Control de flujo](#10)\n",
    "\n"
   ]
  },
  {
   "cell_type": "markdown",
   "id": "c4c9635d",
   "metadata": {},
   "source": [
    "<a id = \"1\"></a> <br>\n",
    "### Hola Mundo"
   ]
  },
  {
   "cell_type": "code",
   "execution_count": null,
   "id": "eb30cc2e",
   "metadata": {},
   "outputs": [],
   "source": [
    "print(\"Hello, World\")"
   ]
  },
  {
   "cell_type": "markdown",
   "id": "ad7a4757",
   "metadata": {},
   "source": [
    "<a id= \"2\"></a> <br>\n",
    "### Indentación\n",
    "Python utiliza la indentación para delimitar la estructura permitiendo establecer bloques de código. No existen comandos para finalizar las líneas ni llaves con las que delimitar el código. Los únicos delimitadores existentes son los dos puntos ( : ) y la indentación del código."
   ]
  },
  {
   "cell_type": "code",
   "execution_count": null,
   "id": "39036d99",
   "metadata": {},
   "outputs": [],
   "source": [
    "pwd = 'contraseña123'\n",
    "\n",
    "if pwd == 'contraseña1':\n",
    "    print('Iniciando sesión ...')\n",
    "else:\n",
    "    print('Contraseña incorrecta.')\n",
    "\n",
    "print('¡Todo terminado!')"
   ]
  },
  {
   "cell_type": "code",
   "execution_count": null,
   "id": "029ce420",
   "metadata": {},
   "outputs": [],
   "source": [
    "pwd = 'contraseña123'\n",
    "\n",
    "if pwd == 'contraseña1':\n",
    "print('Iniciando sesión ...')\n",
    "else:\n",
    "    print('Contraseña incorrecta.')\n",
    "\n",
    "print('¡Todo terminado!')"
   ]
  },
  {
   "cell_type": "markdown",
   "id": "e75472e5",
   "metadata": {},
   "source": [
    "<a id= \"3\"></a> <br>\n",
    "### Comentarios\n",
    "Los comentarios se pueden usar para explicar el codigo de python de manera mas legible\n"
   ]
  },
  {
   "cell_type": "code",
   "execution_count": null,
   "id": "616221d4",
   "metadata": {},
   "outputs": [],
   "source": [
    "pwd = 'contraseña123'\n",
    "\n",
    "#Esta es una linea de comentarios\n",
    "#Verifica si la contraeña es correcta\n",
    "\n",
    "if pwd == 'contraseña1':\n",
    "    print('Iniciando sesión ...')\n",
    "else:\n",
    "    print('Contraseña incorrecta.')\n",
    "\n",
    "print('¡Todo terminado!')"
   ]
  },
  {
   "cell_type": "markdown",
   "id": "dd828fe9",
   "metadata": {},
   "source": [
    "<a id= \"4\"></a> <br>\n",
    "### Variables\n",
    "En python una variable se crea en el momento en que le asigna un valor por primera vez."
   ]
  },
  {
   "cell_type": "code",
   "execution_count": null,
   "id": "e8882152",
   "metadata": {},
   "outputs": [],
   "source": [
    "a = 5 # es de tipo int\n",
    "b = \"Datapath\" # es de tipo str\n",
    "print(a)\n",
    "print(b)"
   ]
  },
  {
   "cell_type": "code",
   "execution_count": null,
   "id": "bf9f621d",
   "metadata": {},
   "outputs": [],
   "source": [
    "a = str(4)    # a será '4'\n",
    "b = int(5)    # b será 5\n",
    "c = float(2)  # c será 2.0"
   ]
  },
  {
   "cell_type": "code",
   "execution_count": null,
   "id": "e3e4c9bb",
   "metadata": {},
   "outputs": [],
   "source": [
    "print(type(a))\n",
    "print(type(b))\n",
    "print(type(c))"
   ]
  },
  {
   "cell_type": "code",
   "execution_count": null,
   "id": "bad41b14",
   "metadata": {},
   "outputs": [],
   "source": [
    "x, y, z = \"Orange\", \"Banana\", \"Cherry\""
   ]
  },
  {
   "cell_type": "code",
   "execution_count": null,
   "id": "17ef8b7d",
   "metadata": {},
   "outputs": [],
   "source": [
    "# Variables globales\n",
    "x = \"awesome\"\n",
    "\n",
    "def myfunc():\n",
    "    print(\"Python is \" + x)\n",
    "\n",
    "myfunc()"
   ]
  },
  {
   "cell_type": "markdown",
   "id": "da544b2a",
   "metadata": {},
   "source": [
    "<a id= \"5\"></a> <br>\n",
    "### Tipos de datos\n",
    "\n",
    "Las variables pueden almacenar datos de diferentes tipos, y diferentes tipos pueden hacer cosas diferentes.\n",
    "Los tipos de datos en python son los siguientes:\n",
    "\n",
    "* Text Type:\tstr\n",
    "\n",
    "* Numeric Types:\tint, float, complex\n",
    "* Sequence Types:\tlist, tuple, range\n",
    "* Mapping Type:\tdict\n",
    "* Set Types:\tset, frozenset\n",
    "* Boolean Type:\tbool\n",
    "* Binary Types:\tbytes, bytearray, memoryview\n",
    "* None Type:\tNoneType"
   ]
  },
  {
   "cell_type": "code",
   "execution_count": null,
   "id": "7ef4f422",
   "metadata": {},
   "outputs": [],
   "source": [
    "x = \"Hello World\" #str\n",
    "print(type(x))\n",
    "x = 20 #int\n",
    "print(type(x))\n",
    "x = 20.5 #float\n",
    "print(type(x))\n",
    "x = 1j #complex\n",
    "print(type(x))\n",
    "x = [\"apple\", \"banana\", \"cherry\"] #list\n",
    "print(type(x))\n",
    "x = (\"apple\", \"banana\", \"cherry\") #tuple\n",
    "print(type(x))\n",
    "x = range(6) #range\n",
    "print(type(x))\n",
    "x = {\"name\" : \"John\", \"age\" : 36} #dict\n",
    "print(type(x))\n",
    "x = {\"apple\", \"banana\", \"cherry\"} #set\n",
    "print(type(x))\n",
    "x = frozenset({\"apple\", \"banana\", \"cherry\"}) #frozenset\n",
    "print(type(x))\n",
    "x = True #bool\n",
    "print(type(x))\n",
    "x = b\"Hello\" #bytes\n",
    "print(type(x))\n",
    "x = bytearray(5) #bytearray\n",
    "print(type(x))\n",
    "x = memoryview(bytes(5)) #memoryview\n",
    "print(type(x))\n",
    "x = None #NoneType\n",
    "print(type(x))"
   ]
  },
  {
   "cell_type": "markdown",
   "id": "a6724d9b",
   "metadata": {},
   "source": [
    "<a id= \"6\"></a> <br>\n",
    "### Operadores"
   ]
  },
  {
   "cell_type": "code",
   "execution_count": null,
   "id": "44ac65a0",
   "metadata": {},
   "outputs": [],
   "source": [
    "#Operadores aritmeticos\n",
    "x = 35\n",
    "y = 5\n",
    "\n",
    "print('x + y =',x+y)\n",
    "\n",
    "print('x - y =',x-y)\n",
    "\n",
    "print('x * y =',x*y)\n",
    "\n",
    "print('x / y =',x/y)\n",
    "\n",
    "print('x // y =',x//y)\n",
    "\n",
    "print('x ** y =',x**y)"
   ]
  },
  {
   "cell_type": "code",
   "execution_count": null,
   "id": "db334581",
   "metadata": {},
   "outputs": [],
   "source": [
    "# Operadores de comparación\n",
    "x = 10\n",
    "y = 12\n",
    "\n",
    "# Output: x > y is False\n",
    "print('x > y is',x>y)\n",
    "\n",
    "# Output: x < y is True\n",
    "print('x < y is',x<y)\n",
    "\n",
    "# Output: x == y is False\n",
    "print('x == y is',x==y)\n",
    "\n",
    "# Output: x != y is True\n",
    "print('x != y is',x!=y)\n",
    "\n",
    "# Output: x >= y is False\n",
    "print('x >= y is',x>=y)\n",
    "\n",
    "# Output: x <= y is True\n",
    "print('x <= y is',x<=y)\n"
   ]
  },
  {
   "cell_type": "code",
   "execution_count": 1,
   "id": "9bf3d8be",
   "metadata": {},
   "outputs": [
    {
     "name": "stdout",
     "output_type": "stream",
     "text": [
      "x and y is False\n",
      "x or y is True\n",
      "not x is False\n"
     ]
    }
   ],
   "source": [
    "# Operadores logicos\n",
    "\n",
    "x = True\n",
    "y = False\n",
    "\n",
    "print('x and y is',x and y)\n",
    "\n",
    "print('x or y is',x or y)\n",
    "\n",
    "print('not x is',not x)"
   ]
  },
  {
   "cell_type": "code",
   "execution_count": null,
   "id": "c760825d",
   "metadata": {},
   "outputs": [],
   "source": [
    "#Operadores de asignación \n",
    "\n",
    "a = 15\n",
    "\n",
    "# Asignacion de valor\n",
    "b = a\n",
    "print(b)\n",
    "\n",
    "# agregarmos y asignamos\n",
    "b += a\n",
    "print(b)\n",
    "\n",
    "# sustraccion y asignación del valor \n",
    "b -= a\n",
    "print(b)\n",
    "\n",
    "b *= a\n",
    "print(b)\n"
   ]
  },
  {
   "cell_type": "markdown",
   "id": "d047ca8d",
   "metadata": {},
   "source": [
    "<a id= \"7\"></a> <br>\n",
    "### Listas\n",
    "Las listas de Python son uno de los tipos de datos más versátiles que nos permiten trabajar con múltiples elementos a la vez.\n",
    "\n",
    "En Python, se crea una lista colocando elementos entre corchetes [ ], separados por comas."
   ]
  },
  {
   "cell_type": "code",
   "execution_count": null,
   "id": "618b5e1a",
   "metadata": {},
   "outputs": [],
   "source": [
    "# Lista de enteros\n",
    "my_list = [3, 5, 2]\n",
    "\n",
    "# Lista vacia\n",
    "my_list = []\n",
    "\n",
    "# Lista mixta\n",
    "my_list = [3, \"Hello\", 44.4]\n",
    "\n",
    "# Lista anidada\n",
    "my_list = [\"apple\", [3, 7, 8], ['x']]"
   ]
  },
  {
   "cell_type": "markdown",
   "id": "38e2c3be",
   "metadata": {},
   "source": [
    "Podemos usar el operador de índice [ ] para acceder a un elemento en una lista. En Python, los índices comienzan en 0. Entonces, una lista que tiene 5 elementos tendrá un índice de 0 a 4."
   ]
  },
  {
   "cell_type": "code",
   "execution_count": null,
   "id": "5dd7e741",
   "metadata": {},
   "outputs": [],
   "source": [
    "my_list = ['x', 'l', 'm', 'a']\n",
    "\n",
    "# Primer elemento\n",
    "print(my_list[0])  \n",
    "\n",
    "# Tercer elemento\n",
    "print(my_list[2])  \n",
    "\n",
    "# Lista anidada\n",
    "n_list = [\"Happy\", [6, 2, 1, 8]]\n",
    "\n",
    "# indice anidado\n",
    "print(n_list[0][1])\n",
    "\n",
    "print(n_list[1][3])\n"
   ]
  },
  {
   "cell_type": "code",
   "execution_count": null,
   "id": "a9333a0b",
   "metadata": {},
   "outputs": [],
   "source": [
    "# Esto nos dara un error porq solo se pueden utilizar enteros\n",
    "print(my_list[4.0])"
   ]
  },
  {
   "cell_type": "code",
   "execution_count": null,
   "id": "6a4e430b",
   "metadata": {},
   "outputs": [],
   "source": [
    "# Python permite la indexación negativa de sus secuencias. \n",
    "# El índice de -1 se refiere al último elemento, -2 al penúltimo elemento y así sucesivamente.\n",
    "\n",
    "print(my_list[-1])\n",
    "\n",
    "print(my_list[-4])"
   ]
  },
  {
   "cell_type": "code",
   "execution_count": null,
   "id": "baf82c85",
   "metadata": {},
   "outputs": [],
   "source": [
    "# Podemos acceder a un rango de elementos en una lista usando el operador de corte :\n",
    "\n",
    "my_list = ['a','b','c','d','e','f','g','h','i']\n",
    "\n",
    "# elementos del indice 2 al 4\n",
    "print(my_list[2:5])\n",
    "\n",
    "# elements from index 5 to end\n",
    "print(my_list[5:])\n",
    "\n",
    "# elements beginning to end\n",
    "print(my_list[:])"
   ]
  },
  {
   "cell_type": "code",
   "execution_count": null,
   "id": "3bdfa77b",
   "metadata": {},
   "outputs": [],
   "source": [
    "# Correccion de algun valor en una lista\n",
    "my_list = [2, 4, 6, 8]\n",
    "\n",
    "# cambiando el primer elemento   \n",
    "my_list[0] = 1            \n",
    "\n",
    "print(my_list)\n",
    "\n",
    "# cambiamos del segundo al cuarto elemento\n",
    "my_list[1:4] = [3, 5, 7]  \n",
    "\n",
    "print(my_list)  "
   ]
  },
  {
   "cell_type": "code",
   "execution_count": null,
   "id": "80ad53c3",
   "metadata": {},
   "outputs": [],
   "source": [
    "# Agregando y extendiendo una lista\n",
    "my_list = [1, 3, 5]\n",
    "\n",
    "my_list.append(7)\n",
    "\n",
    "print(my_list)\n",
    "\n",
    "my_list.extend([9, 11, 13])\n",
    "\n",
    "print(my_list)"
   ]
  },
  {
   "cell_type": "code",
   "execution_count": null,
   "id": "0d414f4e",
   "metadata": {},
   "outputs": [],
   "source": [
    "# Iterando una lista\n",
    "for fruit in ['apple','banana','mango']:\n",
    "    print(\"I like\",fruit)"
   ]
  },
  {
   "cell_type": "markdown",
   "id": "1fae3536",
   "metadata": {},
   "source": [
    "<a id= \"8\"></a> <br>\n",
    "### Tuplas\n",
    "Una tupla en Python es similar a una lista. La diferencia entre los dos es que no podemos cambiar los elementos de una tupla una vez asignada, mientras que pen una lista si lo podemos hacer."
   ]
  },
  {
   "cell_type": "code",
   "execution_count": null,
   "id": "b2d76d22",
   "metadata": {},
   "outputs": [],
   "source": [
    "# Diferentes tipos de tuplas\n",
    "\n",
    "# Tuppla vacia\n",
    "my_tuple = ()\n",
    "print(my_tuple)\n",
    "\n",
    "# Tupla que contiene enteros\n",
    "my_tuple = (3, 2, 5)\n",
    "print(my_tuple)\n",
    "\n",
    "# Tupla mixta\n",
    "my_tuple = (1, \"Hello\", 5.6)\n",
    "print(my_tuple)\n",
    "\n",
    "# Tupla anidada\n",
    "my_tuple = (\"apple\", [2, 5, 7], (5, 8, 1))\n",
    "print(my_tuple)"
   ]
  },
  {
   "cell_type": "code",
   "execution_count": null,
   "id": "125ad146",
   "metadata": {},
   "outputs": [],
   "source": [
    "my_tuple = (\"hello\")\n",
    "print(type(my_tuple))  # <class 'str'>\n",
    "\n",
    "# Creando una tupla con un elemento\n",
    "my_tuple = (\"hello\",)\n",
    "print(type(my_tuple))  # <class 'tuple'>\n",
    "\n",
    "# Parentesis es opcional\n",
    "my_tuple = \"hello\",\n",
    "print(type(my_tuple))  # <class 'tuple'>"
   ]
  },
  {
   "cell_type": "code",
   "execution_count": null,
   "id": "8ffb6d13",
   "metadata": {},
   "outputs": [],
   "source": [
    "my_tuple = ('p','e','r','m','i','t')\n",
    "\n",
    "print(my_tuple[0])   # 'p' \n",
    "print(my_tuple[5])   # 't'"
   ]
  },
  {
   "cell_type": "code",
   "execution_count": null,
   "id": "41b9d501",
   "metadata": {},
   "outputs": [],
   "source": [
    "n_tuple = (\"mouse\", [8, 4, 6], (1, 2, 3))\n",
    "\n",
    "\n",
    "print(n_tuple[0][3])       # 's'\n",
    "print(n_tuple[1][1])       # 4"
   ]
  },
  {
   "cell_type": "code",
   "execution_count": null,
   "id": "63e9ffa7",
   "metadata": {},
   "outputs": [],
   "source": [
    "print(my_tuple[1:4])"
   ]
  },
  {
   "cell_type": "code",
   "execution_count": null,
   "id": "a7b812f9",
   "metadata": {},
   "outputs": [],
   "source": [
    "# Iterar tuplas\n",
    "for name in ('John', 'Kate'):\n",
    "    print(\"Hello\", name)"
   ]
  },
  {
   "cell_type": "markdown",
   "id": "2244230e",
   "metadata": {},
   "source": [
    "<a id= \"9\"></a> <br>\n",
    "### Diccionarios\n",
    "El diccionario de Python es una colección desordenada de elementos. Cada elemento de un diccionario tiene un par clave/valor.\n",
    "\n",
    "Los diccionarios están optimizados para recuperar valores cuando se conoce la clave.\n",
    "\n",
    "Crear un diccionario es tan simple como colocar elementos entre llaves { } separados por comas.\n",
    "\n",
    "Un elemento tiene una clave y un valor correspondiente que se expresa como un par (clave: valor).\n",
    "\n",
    "Si bien los valores pueden ser de cualquier tipo de datos y pueden repetirse, las claves deben ser de tipo inmutable (cadena, número o tupla con elementos inmutables) y deben ser únicas.\n"
   ]
  },
  {
   "cell_type": "code",
   "execution_count": 2,
   "id": "51de5126",
   "metadata": {},
   "outputs": [],
   "source": [
    "# Diccionario vacio\n",
    "my_dict = {}\n",
    "\n",
    "# Diccionario con key enteros\n",
    "my_dict = {1: 'apple', 2: 'ball'}\n",
    "\n",
    "# Diccionario con key mistos\n",
    "my_dict = {'name': 'John', 1: [2, 4, 3]}\n",
    "\n",
    "# usando dict()\n",
    "my_dict = dict({1:'apple', 2:'ball'})\n"
   ]
  },
  {
   "cell_type": "code",
   "execution_count": 3,
   "id": "664ab3f9",
   "metadata": {},
   "outputs": [
    {
     "name": "stdout",
     "output_type": "stream",
     "text": [
      "Jack\n",
      "26\n"
     ]
    }
   ],
   "source": [
    "\n",
    "my_dict = {'name': 'Jack', 'age': 26}\n",
    "\n",
    "# Output: Jack\n",
    "print(my_dict['name'])\n",
    "\n",
    "# Output: 26\n",
    "print(my_dict.get('age'))\n"
   ]
  },
  {
   "cell_type": "code",
   "execution_count": 4,
   "id": "75c9ba35",
   "metadata": {},
   "outputs": [
    {
     "name": "stdout",
     "output_type": "stream",
     "text": [
      "None\n"
     ]
    },
    {
     "ename": "KeyError",
     "evalue": "'address'",
     "output_type": "error",
     "traceback": [
      "\u001b[1;31m---------------------------------------------------------------------------\u001b[0m",
      "\u001b[1;31mKeyError\u001b[0m                                  Traceback (most recent call last)",
      "Input \u001b[1;32mIn [4]\u001b[0m, in \u001b[0;36m<cell line: 3>\u001b[1;34m()\u001b[0m\n\u001b[0;32m      1\u001b[0m \u001b[38;5;28mprint\u001b[39m(my_dict\u001b[38;5;241m.\u001b[39mget(\u001b[38;5;124m'\u001b[39m\u001b[38;5;124maddress\u001b[39m\u001b[38;5;124m'\u001b[39m))\n\u001b[1;32m----> 3\u001b[0m \u001b[38;5;28mprint\u001b[39m(\u001b[43mmy_dict\u001b[49m\u001b[43m[\u001b[49m\u001b[38;5;124;43m'\u001b[39;49m\u001b[38;5;124;43maddress\u001b[39;49m\u001b[38;5;124;43m'\u001b[39;49m\u001b[43m]\u001b[49m)\n",
      "\u001b[1;31mKeyError\u001b[0m: 'address'"
     ]
    }
   ],
   "source": [
    "print(my_dict.get('address'))\n",
    "\n",
    "print(my_dict['address'])"
   ]
  },
  {
   "cell_type": "code",
   "execution_count": null,
   "id": "2c4eaced",
   "metadata": {},
   "outputs": [],
   "source": [
    "# Cambiando y agregando elementos al diccionario\n",
    "my_dict = {'name': 'Jack', 'age': 26}\n",
    "\n",
    "# actualizar valor\n",
    "my_dict['age'] = 27\n",
    "\n",
    "#Output: {'age': 27, 'name': 'Jack'}\n",
    "print(my_dict)\n",
    "\n",
    "# agregando elementos\n",
    "my_dict['address'] = 'Downtown'\n",
    "\n",
    "# Output: {'address': 'Downtown', 'age': 27, 'name': 'Jack'}\n",
    "print(my_dict)"
   ]
  },
  {
   "cell_type": "code",
   "execution_count": null,
   "id": "3ec9ee70",
   "metadata": {},
   "outputs": [],
   "source": [
    "# Iterar un diccionario\n",
    "\n",
    "marks = {}.fromkeys(['Math', 'English', 'Science'], 0)\n",
    "\n",
    "# Output: {'English': 0, 'Math': 0, 'Science': 0}\n",
    "print(marks)\n",
    "\n",
    "for item in marks.items():\n",
    "    print(item)\n",
    "\n",
    "# Output: ['English', 'Math', 'Science']\n",
    "print(list(sorted(marks.keys())))"
   ]
  },
  {
   "cell_type": "markdown",
   "id": "9649c7a5",
   "metadata": {},
   "source": [
    "<a id= \"10\"></a> <br>\n",
    "### Control de flujo\n",
    "\n"
   ]
  },
  {
   "cell_type": "code",
   "execution_count": null,
   "id": "57aa015a",
   "metadata": {},
   "outputs": [],
   "source": [
    "#if...else\n",
    "num = 3\n",
    "if num > 0:\n",
    "    print(num, \"is a positive number.\")\n",
    "print(\"This is always printed.\")\n",
    "\n",
    "num = -1\n",
    "if num > 0:\n",
    "    print(num, \"is a positive number.\")\n",
    "print(\"This is also always printed.\")"
   ]
  },
  {
   "cell_type": "code",
   "execution_count": null,
   "id": "bac5b7f7",
   "metadata": {},
   "outputs": [],
   "source": [
    "num = float(input(\"Enter a number: \"))\n",
    "if num >= 0:\n",
    "    if num == 0:\n",
    "        print(\"Zero\")\n",
    "    else:\n",
    "        print(\"Positive number\")\n",
    "else:\n",
    "    print(\"Negative number\")"
   ]
  },
  {
   "cell_type": "code",
   "execution_count": null,
   "id": "0e637c2a",
   "metadata": {},
   "outputs": [],
   "source": [
    "# for\n",
    "# Lista de numeros\n",
    "numbers = [6, 5, 3, 8, 4, 2, 5, 4, 11]\n",
    "\n",
    "# variable para almacenar la suma\n",
    "sum = 0\n",
    "\n",
    "# iteramos sobre la lista\n",
    "for val in numbers:\n",
    "    sum = sum+val\n",
    "\n",
    "print(\"The sum is\", sum)"
   ]
  },
  {
   "cell_type": "code",
   "execution_count": null,
   "id": "5e226946",
   "metadata": {},
   "outputs": [],
   "source": [
    "# While\n",
    "\n",
    "n = 10\n",
    "\n",
    "# Inizializamos el contador y la variable que guardara la suma\n",
    "sum = 0\n",
    "i = 1\n",
    "\n",
    "while i <= n:\n",
    "    sum = sum + i\n",
    "    i = i+1    # actualiza contador\n",
    "\n",
    "# Imprime suma\n",
    "print(\"The sum is\", sum)"
   ]
  },
  {
   "cell_type": "code",
   "execution_count": null,
   "id": "3f052bb3",
   "metadata": {},
   "outputs": [],
   "source": [
    "#break\n",
    "for val in \"string\":\n",
    "    if val == \"i\":\n",
    "        break\n",
    "    print(val)\n",
    "\n",
    "print(\"The end\")"
   ]
  },
  {
   "cell_type": "code",
   "execution_count": null,
   "id": "c13319bc",
   "metadata": {},
   "outputs": [],
   "source": [
    "# pass\n",
    "sequence = {'p', 'a', 's', 's'}\n",
    "for val in sequence:\n",
    "    pass"
   ]
  },
  {
   "cell_type": "code",
   "execution_count": null,
   "id": "d4c82d63",
   "metadata": {},
   "outputs": [],
   "source": []
  },
  {
   "cell_type": "code",
   "execution_count": null,
   "id": "54483b84",
   "metadata": {},
   "outputs": [],
   "source": []
  }
 ],
 "metadata": {
  "kernelspec": {
   "display_name": "Python 3.9.5 64-bit",
   "language": "python",
   "name": "python3"
  },
  "language_info": {
   "codemirror_mode": {
    "name": "ipython",
    "version": 3
   },
   "file_extension": ".py",
   "mimetype": "text/x-python",
   "name": "python",
   "nbconvert_exporter": "python",
   "pygments_lexer": "ipython3",
   "version": "3.9.5"
  },
  "vscode": {
   "interpreter": {
    "hash": "949777d72b0d2535278d3dc13498b2535136f6dfe0678499012e853ee9abcab1"
   }
  }
 },
 "nbformat": 4,
 "nbformat_minor": 5
}
