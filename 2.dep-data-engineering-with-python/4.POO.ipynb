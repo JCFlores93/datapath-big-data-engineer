{
 "cells": [
  {
   "cell_type": "code",
   "execution_count": 1,
   "id": "7c7dcb88",
   "metadata": {},
   "outputs": [
    {
     "name": "stdout",
     "output_type": "stream",
     "text": [
      "un valor\n"
     ]
    }
   ],
   "source": [
    "###Ejemplo: clase con constructor (método __init__) y 2 atributos:\n",
    "\n",
    "class Ejemplo:\n",
    "    def __init__(self, parámetro1, parámetro2):\n",
    "        self.atributo1=parámetro1\n",
    "        self.atributo2=parámetro2\n",
    "\n",
    "#instanciar un objeto pasando argumentos al constructor\n",
    "un_ejemplo=Ejemplo(\"un valor\", \"otro valor\")\n",
    "\n",
    "#imprimir valor de un atributo\n",
    "print(un_ejemplo.atributo1)\n"
   ]
  },
  {
   "cell_type": "code",
   "execution_count": 2,
   "id": "e1ac1acf",
   "metadata": {},
   "outputs": [],
   "source": [
    "class Gato:\n",
    "\n",
    "    #atributo de clase\n",
    "    especie=\"mamífero\"\n",
    " \n",
    "    def __init__(self, nombre, edad):\n",
    "        self.nombre=nombre\n",
    "        self.edad=edad\n",
    "        self.alimentos=[] \n",
    " \n",
    "    def esAdulto(self):\n",
    "        if self.edad>1:\n",
    "            print(self.nombre, \"es adulto\")\n",
    "        else:\n",
    "            print(self.nombre, \"es cachorro\")\n",
    "\n",
    "    def esAlimentoFavorito(self,alimento):\n",
    "        return alimento in self.alimentos"
   ]
  },
  {
   "cell_type": "code",
   "execution_count": 4,
   "id": "f3e583ff",
   "metadata": {},
   "outputs": [
    {
     "name": "stdout",
     "output_type": "stream",
     "text": [
      "Pelusa\n",
      "Pelusita\n",
      "Siamés\n",
      "['pescado', 'leche']\n",
      "['leche', 'galletas']\n",
      "Pelusita es cachorro\n",
      "Pelusita es adulto\n"
     ]
    }
   ],
   "source": [
    "#Instanciar un objeto Gato   \n",
    "p=Gato(\"Pelusa\",1)\n",
    "\n",
    "#Imprimir un atributo\n",
    "print(p.nombre)\n",
    "\n",
    "#Cambiar un atributo e imprimir\n",
    "p.nombre=\"Pelusita\"\n",
    "print(p.nombre)\n",
    "\n",
    "#Agregar un atributo de forma dinámica e imprimirlo\n",
    "p.raza=\"Siamés\"\n",
    "print(p.raza)\n",
    "\n",
    "#Agregar elementos a una lista que es atributo de un objetoº\n",
    "p.alimentos.append(\"pescado\")\n",
    "p.alimentos.append(\"leche\")\n",
    "print(p.alimentos)\n",
    "\n",
    "#Modificar la lista que es atributo de un objeto\n",
    "p.alimentos=[\"leche\", \"galletas\"]\n",
    "print(p.alimentos)\n",
    "\n",
    "#Invocar un método de un objeto\n",
    "p.esAdulto()\n",
    "p.edad=2\n",
    "p.esAdulto()\n",
    "\n",
    "\n"
   ]
  },
  {
   "cell_type": "code",
   "execution_count": 5,
   "id": "35852900",
   "metadata": {},
   "outputs": [
    {
     "name": "stdout",
     "output_type": "stream",
     "text": [
      "True\n",
      "False\n",
      "mamífero\n",
      "mamífero\n"
     ]
    }
   ],
   "source": [
    "#Instanciar otro objeto de la misma clase\n",
    "g=Gato(\"Cleo\",3)\n",
    "\n",
    "#Guardar una lista en un atributo\n",
    "g.alimentos=[\"pescado\",\"pan\"]\n",
    "\n",
    "#Invocar al mismo método en distintos objetos\n",
    "print(p.esAlimentoFavorito(\"leche\"))\n",
    "print(g.esAlimentoFavorito(\"leche\"))\n",
    "\n",
    "#Acceder a atributo de clase de un objeto\n",
    "print(p.especie)\n",
    "\n",
    "#Acceder a atributo de clase sin instanciar objetos\n",
    "print(Gato.especie)"
   ]
  },
  {
   "cell_type": "code",
   "execution_count": 32,
   "id": "9aaff38d",
   "metadata": {},
   "outputs": [],
   "source": [
    "class Poligono:\n",
    "    def __init__(self, numero_lados):\n",
    "        self.n = numero_lados\n",
    "        self.lados = [0 for i in range(numero_lados)]\n",
    "\n",
    "    def ingreseLados(self):\n",
    "        self.lados = [float(input(\"Ingrese lado \"+str(i+1)+\" : \")) for i in range(self.n)]\n",
    "\n",
    "    def infoLados(self):\n",
    "        for i in range(self.n):\n",
    "            print(\"lado\",i+1,\"es\",self.lados[i])"
   ]
  },
  {
   "cell_type": "code",
   "execution_count": 39,
   "id": "703b69fe",
   "metadata": {},
   "outputs": [],
   "source": [
    "class Triangulo(Poligono):\n",
    "    def __init__(self):\n",
    "        Poligono.__init__(self,3)\n",
    "\n",
    "    def calcularArea(self):\n",
    "        a, b, c = self.lados\n",
    "        # calculate the semi-perimeter\n",
    "        s = (a + b + c) / 2\n",
    "        area = (s*(s-a)*(s-b)*(s-c)) ** 0.5\n",
    "        print('El area del triangulo es %0.2f' %area)"
   ]
  },
  {
   "cell_type": "code",
   "execution_count": 40,
   "id": "a0816ffe",
   "metadata": {},
   "outputs": [],
   "source": [
    "t = Triangulo()"
   ]
  },
  {
   "cell_type": "code",
   "execution_count": 41,
   "id": "ffa946c8",
   "metadata": {},
   "outputs": [
    {
     "name": "stdout",
     "output_type": "stream",
     "text": [
      "Ingrese lado 1 : 3\n",
      "Ingrese lado 2 : 4\n",
      "Ingrese lado 3 : 5\n"
     ]
    }
   ],
   "source": [
    "t.ingreseLados()"
   ]
  },
  {
   "cell_type": "code",
   "execution_count": 42,
   "id": "db2e2c40",
   "metadata": {},
   "outputs": [
    {
     "name": "stdout",
     "output_type": "stream",
     "text": [
      "lado 1 es 3.0\n",
      "lado 2 es 4.0\n",
      "lado 3 es 5.0\n"
     ]
    }
   ],
   "source": [
    "t.infoLados()"
   ]
  },
  {
   "cell_type": "code",
   "execution_count": 43,
   "id": "bfa5c065",
   "metadata": {},
   "outputs": [
    {
     "name": "stdout",
     "output_type": "stream",
     "text": [
      "El area del triangulo es 6.00\n"
     ]
    }
   ],
   "source": [
    "t.calcularArea()"
   ]
  },
  {
   "cell_type": "code",
   "execution_count": 26,
   "id": "b0840850",
   "metadata": {},
   "outputs": [
    {
     "name": "stdout",
     "output_type": "stream",
     "text": [
      "4\n"
     ]
    },
    {
     "ename": "AttributeError",
     "evalue": "'AgenteVentas' object has no attribute 'nombre'",
     "output_type": "error",
     "traceback": [
      "\u001b[1;31m---------------------------------------------------------------------------\u001b[0m",
      "\u001b[1;31mAttributeError\u001b[0m                            Traceback (most recent call last)",
      "Input \u001b[1;32mIn [26]\u001b[0m, in \u001b[0;36m<cell line: 23>\u001b[1;34m()\u001b[0m\n\u001b[0;32m     20\u001b[0m \u001b[38;5;28mprint\u001b[39m(pedro\u001b[38;5;241m.\u001b[39mnumeroMostrador)\n\u001b[0;32m     22\u001b[0m \u001b[38;5;66;03m#Atributo de superclase no existe\u001b[39;00m\n\u001b[1;32m---> 23\u001b[0m \u001b[38;5;28mprint\u001b[39m(\u001b[43mpedro\u001b[49m\u001b[38;5;241;43m.\u001b[39;49m\u001b[43mnombre\u001b[49m)\n",
      "\u001b[1;31mAttributeError\u001b[0m: 'AgenteVentas' object has no attribute 'nombre'"
     ]
    }
   ],
   "source": [
    "class Empleado:\n",
    "\n",
    "    def __init__(self, nombre, edad, legajo, sueldo):\n",
    "        self.nombre=nombre\n",
    "        self.edad=edad\n",
    "        self.legajo=legajo\n",
    "        self.sueldoBase=sueldo\n",
    "    \n",
    "    def calcularSueldo(self, descuentos, bonos):\n",
    "        return self.sueldoBase-descuentos+bonos\n",
    "    \n",
    "\n",
    "class AgenteVentas(Empleado):\n",
    "    #Reimplementación de método __init__ en la subclase\n",
    "    def __init__(self, mostrador):\n",
    "        self.numeroMostrador=mostrador\n",
    "\n",
    "#Instanciar objeto de subclase\n",
    "pedro=AgenteVentas(4)\n",
    "print(pedro.numeroMostrador)\n",
    "\n",
    "#Atributo de superclase no existe\n",
    "print(pedro.nombre)\n",
    "\n"
   ]
  },
  {
   "cell_type": "code",
   "execution_count": 27,
   "id": "28bc9776",
   "metadata": {},
   "outputs": [
    {
     "name": "stdout",
     "output_type": "stream",
     "text": [
      "Pedro Martinez\n",
      "57900\n"
     ]
    }
   ],
   "source": [
    "\n",
    "#Reimplementación de método __init__ llamando al de la superclase\n",
    "class AgenteVentas(Empleado):\n",
    "    def __init__(self, nombre, edad, legajo, sueldo, mostrador):\n",
    "        self.numeroMostrador=mostrador\n",
    "        super().__init__(nombre, edad, legajo, sueldo)\n",
    "\n",
    "#Instanciar objeto de subclase\n",
    "pedro=AgenteVentas(\"Pedro Martinez\", 32, \"A120\", 55000, 4)\n",
    "\n",
    "#Atributo heredado de la superclase\n",
    "print(pedro.nombre)\n",
    "\n",
    "#Método heredado de la superclase\n",
    "print(pedro.calcularSueldo(100, 3000))"
   ]
  },
  {
   "cell_type": "code",
   "execution_count": 31,
   "id": "7c2beab6",
   "metadata": {},
   "outputs": [
    {
     "name": "stdout",
     "output_type": "stream",
     "text": [
      "Renueva su licencia cada 1 año\n"
     ]
    }
   ],
   "source": [
    "#Subclase con método propio\n",
    "class Tripulante(Empleado):        \n",
    "    def mostrarRenovacionLicencia(self):\n",
    "        if self.edad<50:\n",
    "            print(\"Renueva su licencia cada 1 año\")\n",
    "        else:\n",
    "            print(\"Renueva su licencia cada 6 meses\")\n",
    "\n",
    "lucas=Tripulante(\"Lucas Gutierrez\", 40, \"H618\", 60000)\n",
    "\n",
    "lucas.mostrarRenovacionLicencia()"
   ]
  },
  {
   "cell_type": "code",
   "execution_count": null,
   "id": "8a49afd7",
   "metadata": {},
   "outputs": [],
   "source": []
  }
 ],
 "metadata": {
  "kernelspec": {
   "display_name": "Python 3.9.5 64-bit",
   "language": "python",
   "name": "python3"
  },
  "language_info": {
   "codemirror_mode": {
    "name": "ipython",
    "version": 3
   },
   "file_extension": ".py",
   "mimetype": "text/x-python",
   "name": "python",
   "nbconvert_exporter": "python",
   "pygments_lexer": "ipython3",
   "version": "3.9.5"
  },
  "vscode": {
   "interpreter": {
    "hash": "949777d72b0d2535278d3dc13498b2535136f6dfe0678499012e853ee9abcab1"
   }
  }
 },
 "nbformat": 4,
 "nbformat_minor": 5
}
